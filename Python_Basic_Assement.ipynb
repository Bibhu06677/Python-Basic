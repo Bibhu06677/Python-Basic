{
  "nbformat": 4,
  "nbformat_minor": 0,
  "metadata": {
    "colab": {
      "provenance": []
    },
    "kernelspec": {
      "name": "python3",
      "display_name": "Python 3"
    },
    "language_info": {
      "name": "python"
    }
  },
  "cells": [
    {
      "cell_type": "code",
      "execution_count": null,
      "metadata": {
        "id": "ONFAQQinBQ3z"
      },
      "outputs": [],
      "source": []
    },
    {
      "cell_type": "markdown",
      "source": [
        "**1- Explain the key features of Python that make it a popular choice for programming**\n",
        "\n",
        "Python is one of the most popular programming languages today, and its popularity stems from several key features that make it especially attractive for beginners and experienced developers alike:\n",
        "\n",
        "a. **Simple and Readable Syntax**\n",
        "\n",
        "Python’s syntax is clean and easy to understand, which makes the code more readable and maintainable.\n",
        "\n",
        "  It resembles plain English, which lowers the barrier to entry for beginners.\n",
        "\n",
        "**b. Extensive Standard Library and Ecosystem**\n",
        "\n",
        "Python comes with a rich standard library that provides modules and functions for everything from file I/O to web development.\n",
        "\n",
        "There’s also a massive ecosystem of third-party packages (e.g., NumPy, Pandas, TensorFlow) for nearly every application area.\n",
        "\n",
        "**c. Interpreted and Dynamically Typed**\n",
        "\n",
        "Python is an interpreted language, so it runs code line-by-line without the need for a separate compilation step.\n",
        "\n",
        "It is dynamically typed, meaning you don’t need to declare variable types explicitly.\n",
        "\n",
        "**d. Versatile and Multi-Paradigm**\n",
        "\n",
        "Python supports multiple programming paradigms:\n",
        "\n",
        "Procedural\n",
        "\n",
        "Object-Oriented\n",
        "\n",
        "Functional\n",
        "\n",
        "This flexibility allows developers to choose the best approach for their project.\n",
        "\n",
        "\n",
        "**e. Cross-Platform Compatibility**\n",
        "\n",
        "Python is available on all major platforms (Windows, macOS, Linux), and Python programs can run unchanged across different systems.\n",
        "\n",
        "\n",
        "**2-  Describe the role of predefined keywords in Python and provide examples of how they are used in a\n",
        "program**\n",
        "\n",
        "Categories of Python Keywords with Examples\n",
        "\n",
        "**a. Control Flow**\n",
        "\n",
        "Used to make decisions or loop through data.\n",
        "\n",
        "if, elif, else\n",
        "\n",
        "for, while, break, continue, pass\n",
        "\n"
      ],
      "metadata": {
        "id": "hH05IQO5BXoj"
      }
    },
    {
      "cell_type": "code",
      "source": [
        "x = 10\n",
        "if x > 5:\n",
        "    print(\"x is greater than 5\")\n",
        "else:\n",
        "    print(\"x is 5 or less\")\n"
      ],
      "metadata": {
        "colab": {
          "base_uri": "https://localhost:8080/"
        },
        "id": "A9Xg2f77EAIu",
        "outputId": "5565780f-03d1-4544-bad5-3b234374bcab"
      },
      "execution_count": null,
      "outputs": [
        {
          "output_type": "stream",
          "name": "stdout",
          "text": [
            "x is greater than 5\n"
          ]
        }
      ]
    },
    {
      "cell_type": "markdown",
      "source": [
        "**b. Variable Definition and Scope**\n",
        "\n",
        "Used for defining or managing variables and scope.\n",
        "\n",
        "def, return, global, nonlocal, lambda"
      ],
      "metadata": {
        "id": "yLfNHKoREIIw"
      }
    },
    {
      "cell_type": "code",
      "source": [
        "def greet(name):\n",
        "    return f\"Hello, {name}!\"\n",
        "\n",
        "print(greet(\"Alice\"))\n"
      ],
      "metadata": {
        "colab": {
          "base_uri": "https://localhost:8080/"
        },
        "id": "TSn8nmJsEHxn",
        "outputId": "aff09ef9-28ee-4f14-d9bb-86363780182b"
      },
      "execution_count": null,
      "outputs": [
        {
          "output_type": "stream",
          "name": "stdout",
          "text": [
            "Hello, Alice!\n"
          ]
        }
      ]
    },
    {
      "cell_type": "markdown",
      "source": [
        "**c. Object-Oriented Programming**\n",
        "\n",
        "Used for defining classes and working with inheritance.\n",
        "\n",
        "class, self, super\n"
      ],
      "metadata": {
        "id": "vWFOZnfdBm1e"
      }
    },
    {
      "cell_type": "code",
      "source": [
        "class Animal:\n",
        "    def speak(self):\n",
        "        print(\"Animal speaks\")\n",
        "\n",
        "class Dog(Animal):\n",
        "    def speak(self):\n",
        "        super().speak()\n",
        "        print(\"Dog barks\")\n",
        "\n",
        "d = Dog()\n",
        "d.speak()\n"
      ],
      "metadata": {
        "colab": {
          "base_uri": "https://localhost:8080/"
        },
        "id": "aB61WMnaEyvv",
        "outputId": "4b61d9e0-9e2d-4195-d74e-0e7822212d26"
      },
      "execution_count": null,
      "outputs": [
        {
          "output_type": "stream",
          "name": "stdout",
          "text": [
            "Animal speaks\n",
            "Dog barks\n"
          ]
        }
      ]
    },
    {
      "cell_type": "markdown",
      "source": [
        "**d. Exception Handling**\n",
        "\n",
        "Used for managing errors and exceptions.\n",
        "\n",
        "try, except, finally, raise"
      ],
      "metadata": {
        "id": "IOfmQZ-uE6nX"
      }
    },
    {
      "cell_type": "code",
      "source": [
        "try:\n",
        "    result = 10 / 0\n",
        "except ZeroDivisionError:\n",
        "    print(\"Can't divide by zero!\")\n"
      ],
      "metadata": {
        "colab": {
          "base_uri": "https://localhost:8080/"
        },
        "id": "inxELghhE_XI",
        "outputId": "ec81dbb5-9e0a-4ad0-8e99-148db40a04a6"
      },
      "execution_count": null,
      "outputs": [
        {
          "output_type": "stream",
          "name": "stdout",
          "text": [
            "Can't divide by zero!\n"
          ]
        }
      ]
    },
    {
      "cell_type": "markdown",
      "source": [
        "**e. Boolean and Logical Operations**\n",
        "\n",
        "Used for logic and comparisons.\n",
        "\n",
        "True, False, not, and, or, is, in\n"
      ],
      "metadata": {
        "id": "ELOLqibwFHs3"
      }
    },
    {
      "cell_type": "code",
      "source": [
        "x = 5\n",
        "if x > 0 and x < 10:\n",
        "    print(\"x is between 0 and 10\")\n"
      ],
      "metadata": {
        "colab": {
          "base_uri": "https://localhost:8080/"
        },
        "id": "CGtL2SKUFjN-",
        "outputId": "7edb16f0-4ba0-4d7f-8261-d0e10fb879d6"
      },
      "execution_count": null,
      "outputs": [
        {
          "output_type": "stream",
          "name": "stdout",
          "text": [
            "x is between 0 and 10\n"
          ]
        }
      ]
    },
    {
      "cell_type": "markdown",
      "source": [
        "**3- Describe the role of predefined keywords in Python and provide examples of how they are used in a program**\n",
        "\n",
        "Predefined keywords in Python are reserved words that are used to define the syntax and rules of the Python language.\n",
        "These keywords have special meanings and cannot be used as variable names or identifiers.\n",
        "\n",
        "They help control how your program behaves — like making decisions, looping, handling errors, and defining functions or classes.\n",
        "\n",
        "Examples of Predefined Keywords in Use\n",
        "a. Control Flow\n",
        "\n",
        "Used to make decisions in a program.\n",
        "\n",
        "Keywords used: if, else\n"
      ],
      "metadata": {
        "id": "hi8rURoiBn80"
      }
    },
    {
      "cell_type": "code",
      "source": [
        "x = 10\n",
        "if x > 5:\n",
        "    print(\"x is greater than 5\")\n",
        "else:\n",
        "    print(\"x is 5 or less\")\n"
      ],
      "metadata": {
        "colab": {
          "base_uri": "https://localhost:8080/"
        },
        "id": "a8PNVSlwGxiU",
        "outputId": "e2aff636-ecfe-4aa7-dae1-9e9d431447dd"
      },
      "execution_count": null,
      "outputs": [
        {
          "output_type": "stream",
          "name": "stdout",
          "text": [
            "x is greater than 5\n"
          ]
        }
      ]
    },
    {
      "cell_type": "markdown",
      "source": [
        "**b. Loops**\n",
        "\n",
        "Used to repeat actions.\n",
        "\n",
        "Keywords used: for, in"
      ],
      "metadata": {
        "id": "wM9ZyP4xG2BC"
      }
    },
    {
      "cell_type": "code",
      "source": [
        "for i in range(3):\n",
        "    print(\"Iteration\", i)\n"
      ],
      "metadata": {
        "colab": {
          "base_uri": "https://localhost:8080/"
        },
        "id": "rsM6Md3CG_-0",
        "outputId": "61f0189e-7dc4-4ef4-872f-93634cfd6c0f"
      },
      "execution_count": null,
      "outputs": [
        {
          "output_type": "stream",
          "name": "stdout",
          "text": [
            "Iteration 0\n",
            "Iteration 1\n",
            "Iteration 2\n"
          ]
        }
      ]
    },
    {
      "cell_type": "markdown",
      "source": [
        "**c. Function Definition**\n",
        "\n",
        "Used to group code and reuse it.\n",
        "\n",
        "Keywords used: def, return\n",
        "\n"
      ],
      "metadata": {
        "id": "zKgCHzF5HG09"
      }
    },
    {
      "cell_type": "code",
      "source": [
        "def greet(name):\n",
        "    return \"Hello \" + name\n",
        "\n",
        "print(greet(\"Bibhu\"))\n"
      ],
      "metadata": {
        "colab": {
          "base_uri": "https://localhost:8080/"
        },
        "id": "SNIFnLbCHO0r",
        "outputId": "3db77ff8-80cb-483a-f65b-41f35194838a"
      },
      "execution_count": null,
      "outputs": [
        {
          "output_type": "stream",
          "name": "stdout",
          "text": [
            "Hello Bibhu\n"
          ]
        }
      ]
    },
    {
      "cell_type": "markdown",
      "source": [
        "**d. Exception Handling**\n",
        "\n",
        "Used to manage errors.\n",
        "\n",
        "Keywords used: try, except\n",
        "\n"
      ],
      "metadata": {
        "id": "yhxPBt96HY2L"
      }
    },
    {
      "cell_type": "code",
      "source": [
        "try:\n",
        "    print(10 / 0)\n",
        "except ZeroDivisionError:\n",
        "    print(\"Cannot divide by zero!\")\n"
      ],
      "metadata": {
        "colab": {
          "base_uri": "https://localhost:8080/"
        },
        "id": "yQx9ez7aHixm",
        "outputId": "767a5ce8-6780-4ed0-c614-24b7ec0af260"
      },
      "execution_count": null,
      "outputs": [
        {
          "output_type": "stream",
          "name": "stdout",
          "text": [
            "Cannot divide by zero!\n"
          ]
        }
      ]
    },
    {
      "cell_type": "markdown",
      "source": [
        "**e.Boolean Logic**\n",
        "\n",
        "Used for making logical decisions.\n",
        "\n",
        "Keywords used: True, and, if\n"
      ],
      "metadata": {
        "id": "oHuE9T3yHoqq"
      }
    },
    {
      "cell_type": "code",
      "source": [
        "is_active = True\n",
        "if is_active and x > 0:\n",
        "    print(\"Active and x is positive\")\n"
      ],
      "metadata": {
        "colab": {
          "base_uri": "https://localhost:8080/"
        },
        "id": "lqVmOUkvHx8a",
        "outputId": "e1439de2-cc2f-4803-b562-78444a3f0dd9"
      },
      "execution_count": null,
      "outputs": [
        {
          "output_type": "stream",
          "name": "stdout",
          "text": [
            "Active and x is positive\n"
          ]
        }
      ]
    },
    {
      "cell_type": "markdown",
      "source": [
        "**4- Discuss the different types of operators in Python and provide examples of how they are used**\n",
        "\n",
        "The different types of operators in Python\n",
        "\n",
        "**a. Arithmetic Operators**\n",
        "\n",
        "Used to perform basic mathematical operations.\n",
        "\n",
        "Operator\tDescription\tExample\n",
        "+\tAddition\t3 + 2 → 5\n",
        "-\tSubtraction\t5 - 2 → 3\n",
        "*\tMultiplication\t4 * 3 → 12\n",
        "/\tDivision\t10 / 2 → 5.0\n",
        "\n",
        "//\tFloor Division\t10 // 3 → 3\n",
        "\n",
        "%\tModulus\t10 % 3 → 1\n",
        "\n",
        "**Exponentiation\t2 ** 3 → 8\n",
        "\n"
      ],
      "metadata": {
        "id": "k7MSmDJQH3Aj"
      }
    },
    {
      "cell_type": "code",
      "source": [
        "a = 10\n",
        "b = 3\n",
        "print(a + b)\n",
        "print(a ** b)\n"
      ],
      "metadata": {
        "colab": {
          "base_uri": "https://localhost:8080/"
        },
        "id": "IyXWpHQwI1PP",
        "outputId": "e556aa50-9bdc-4940-8f7e-f0e3796c8454"
      },
      "execution_count": null,
      "outputs": [
        {
          "output_type": "stream",
          "name": "stdout",
          "text": [
            "13\n",
            "1000\n"
          ]
        }
      ]
    },
    {
      "cell_type": "markdown",
      "source": [
        "**b. Assignment Operators**\n",
        "\n",
        "Used to assign values to variables.\n",
        "\n",
        "Operator | Example | Equivalent\n",
        "\n",
        "= |        x = 5 | Assign 5 to x\n",
        "\n",
        "+= |       x += 2 | x = x + 2\n",
        "\n",
        "-= |       x -= 1 | x = x - 1\n",
        "\n",
        "*= |       x *= 3 | x = x * 3\n",
        "\n",
        "/= |       x /= 2 | x = x / 2"
      ],
      "metadata": {
        "id": "BtqcP4KmI6bb"
      }
    },
    {
      "cell_type": "code",
      "source": [
        "x = 5\n",
        "x += 3\n",
        "print(x)\n"
      ],
      "metadata": {
        "colab": {
          "base_uri": "https://localhost:8080/"
        },
        "id": "EM3D8b_kJYTw",
        "outputId": "76ffd09d-3dee-4fa8-ea4b-55a105c8d452"
      },
      "execution_count": null,
      "outputs": [
        {
          "output_type": "stream",
          "name": "stdout",
          "text": [
            "8\n"
          ]
        }
      ]
    },
    {
      "cell_type": "markdown",
      "source": [
        "**c. Comparison Operators**\n",
        "\n",
        "Used to compare two values and return True or False.\n",
        "\n",
        "Operator | Meaning | Example\n",
        "\n",
        "== | Equal to | 3 == 3 → True\n",
        "\n",
        "!= | Not equal to | 4 != 5 → True\n",
        "\n",
        "> | Greater than | 5 > 2 → True\n",
        "\n",
        "< | Less than | 2 < 5 → True\n",
        "\n",
        ">= | Greater than or equal | 5 >= 5 → True\n",
        "\n",
        "<= | Less than or equal | 3 <= 4 → True"
      ],
      "metadata": {
        "id": "Erxy-57jJn8w"
      }
    },
    {
      "cell_type": "code",
      "source": [
        "a = 10\n",
        "b = 5\n",
        "print(a > b)\n"
      ],
      "metadata": {
        "colab": {
          "base_uri": "https://localhost:8080/"
        },
        "id": "hnn0zhjzKE7n",
        "outputId": "48138804-e15f-4078-c4e5-8dc8bca58f13"
      },
      "execution_count": null,
      "outputs": [
        {
          "output_type": "stream",
          "name": "stdout",
          "text": [
            "True\n"
          ]
        }
      ]
    },
    {
      "cell_type": "markdown",
      "source": [
        "**d. Logical Operators**\n",
        "\n",
        "Used to combine conditional statements.\n",
        "\n",
        "Operator | Description | Example\n",
        "\n",
        "and | True if both are true | True and False → False\n",
        "\n",
        "or | True if at least one is true | True or False → True\n",
        "\n",
        "not | Reverses the result | not True → False\n"
      ],
      "metadata": {
        "id": "YM__7EOZKPqo"
      }
    },
    {
      "cell_type": "code",
      "source": [
        "x = 5\n",
        "print(x > 2 and x < 10)\n"
      ],
      "metadata": {
        "colab": {
          "base_uri": "https://localhost:8080/"
        },
        "id": "dzZJk6KdKhMd",
        "outputId": "9c25013f-501b-45b6-b98b-a73cf9b76861"
      },
      "execution_count": null,
      "outputs": [
        {
          "output_type": "stream",
          "name": "stdout",
          "text": [
            "True\n"
          ]
        }
      ]
    },
    {
      "cell_type": "markdown",
      "source": [
        "**e. Identity Operators**\n",
        "\n",
        "Used to check if two variables point to the same object.\n",
        "\n",
        "Operator | Description | Example\n",
        "\n",
        "is | Same object | x is y\n",
        "\n",
        "is not | Not the same object | x is not y"
      ],
      "metadata": {
        "id": "NTPSB-l2Kqm8"
      }
    },
    {
      "cell_type": "code",
      "source": [
        "x = [1, 2]\n",
        "y = x\n",
        "z = [1, 2]\n",
        "print(x is y)\n",
        "print(x is z)\n"
      ],
      "metadata": {
        "colab": {
          "base_uri": "https://localhost:8080/"
        },
        "id": "EVAuAFilK3Y0",
        "outputId": "96347519-0b9f-4c52-e7c8-0352ea36dc11"
      },
      "execution_count": null,
      "outputs": [
        {
          "output_type": "stream",
          "name": "stdout",
          "text": [
            "True\n",
            "False\n"
          ]
        }
      ]
    },
    {
      "cell_type": "markdown",
      "source": [
        "**f. Membership Operators**\n",
        "\n",
        "Used to test if a value is part of a sequence (like a list, string, etc.)\n",
        "\n",
        "Operator | Description | Example\n",
        "\n",
        "in | Value exists | \"a\" in \"apple\" → True\n",
        "\n",
        "not in | Value does not exist | \"z\" not in \"apple\" → True"
      ],
      "metadata": {
        "id": "ZmeB2e8VLHVc"
      }
    },
    {
      "cell_type": "code",
      "source": [
        "fruits = [\"apple\", \"banana\"]\n",
        "print(\"apple\" in fruits)\n"
      ],
      "metadata": {
        "colab": {
          "base_uri": "https://localhost:8080/"
        },
        "id": "nfhzMWozLSHL",
        "outputId": "5e864781-c148-4854-dadf-2cc43c7e078a"
      },
      "execution_count": null,
      "outputs": [
        {
          "output_type": "stream",
          "name": "stdout",
          "text": [
            "True\n"
          ]
        }
      ]
    },
    {
      "cell_type": "markdown",
      "source": [
        "**g. Bitwise Operators**\n",
        "\n",
        "Operate on bits (0s and 1s).\n",
        "\n",
        "Operator | Description | Example (Binary)\n",
        "\n",
        "& | AND | 5 & 3 → 1\n",
        "` | ` | OR\n",
        "\n",
        "^ | XOR | 5 ^ 3 → 6\n",
        "\n",
        "~ | NOT | ~5 → -6\n",
        "\n",
        "<< | Left shift | 5 << 1 → 10\n",
        "\n",
        ">> | Right shift | 5 >> 1 → 2"
      ],
      "metadata": {
        "id": "t-UhYlP9LU41"
      }
    },
    {
      "cell_type": "code",
      "source": [
        "a = 5\n",
        "b = 3\n",
        "print(a & b)\n"
      ],
      "metadata": {
        "colab": {
          "base_uri": "https://localhost:8080/"
        },
        "id": "Pa_YYCF9LoJx",
        "outputId": "1b018ca3-34f3-48dc-d092-d46b3076a51b"
      },
      "execution_count": 36,
      "outputs": [
        {
          "output_type": "stream",
          "name": "stdout",
          "text": [
            "1\n"
          ]
        }
      ]
    },
    {
      "cell_type": "markdown",
      "source": [
        "**5- Explain the concept of type casting in Python with examples**\n",
        "\n",
        "Type casting (also called type conversion) is the process of converting one data type into another.\n",
        "\n",
        "Python lets you manually convert data types using built-in functions like:\n",
        "\n",
        "int() – converts to integer\n",
        "\n",
        "float() – converts to float\n",
        "\n",
        "str() – converts to string\n",
        "\n",
        "bool() – converts to boolean\n",
        "\n",
        "list(), tuple(), set() – converts between collections\n",
        "\n",
        "**Examples of Type Casting:**\n",
        "\n",
        "a. String to Integer\n",
        "\n",
        "Here, \"123\" is a string. int(\"123\") converts it to an integer.\n",
        "\n"
      ],
      "metadata": {
        "id": "w6gCdXb6MScW"
      }
    },
    {
      "cell_type": "code",
      "source": [
        "num_str = \"123\"\n",
        "num_int = int(num_str)\n",
        "print(num_int + 10)\n"
      ],
      "metadata": {
        "colab": {
          "base_uri": "https://localhost:8080/"
        },
        "id": "ECsEnytYMrzf",
        "outputId": "627c71cf-f9f7-4766-aef8-bde0310cec60"
      },
      "execution_count": null,
      "outputs": [
        {
          "output_type": "stream",
          "name": "stdout",
          "text": [
            "133\n"
          ]
        }
      ]
    },
    {
      "cell_type": "markdown",
      "source": [
        "2. Integer to Float\n"
      ],
      "metadata": {
        "id": "QhTqC0p5MvQ9"
      }
    },
    {
      "cell_type": "code",
      "source": [
        "x = 10\n",
        "y = float(x)\n",
        "print(y)\n"
      ],
      "metadata": {
        "colab": {
          "base_uri": "https://localhost:8080/"
        },
        "id": "WVDyqEQpND3j",
        "outputId": "6f022d62-20e6-42cd-bc3f-c52b1569242d"
      },
      "execution_count": 21,
      "outputs": [
        {
          "output_type": "stream",
          "name": "stdout",
          "text": [
            "10.0\n"
          ]
        }
      ]
    },
    {
      "cell_type": "markdown",
      "source": [
        "**c. Float to Integer **\n",
        "\n"
      ],
      "metadata": {
        "id": "JURNCzSZNLvq"
      }
    },
    {
      "cell_type": "code",
      "source": [
        "price = 9.99\n",
        "price_int = int(price)\n",
        "print(price_int)\n"
      ],
      "metadata": {
        "colab": {
          "base_uri": "https://localhost:8080/"
        },
        "id": "oKPIFhfnNQIv",
        "outputId": "2094f412-7fcf-438d-8fe9-e5f2d2694ee2"
      },
      "execution_count": 22,
      "outputs": [
        {
          "output_type": "stream",
          "name": "stdout",
          "text": [
            "9\n"
          ]
        }
      ]
    },
    {
      "cell_type": "markdown",
      "source": [
        "**d. Number to String**\n",
        "\n"
      ],
      "metadata": {
        "id": "X5eaCmlkNU0s"
      }
    },
    {
      "cell_type": "code",
      "source": [
        "age = 25\n",
        "age_str = str(age)\n",
        "print(\"I am \" + age_str + \" years old.\")\n"
      ],
      "metadata": {
        "colab": {
          "base_uri": "https://localhost:8080/"
        },
        "id": "nS6ASC6mNZX1",
        "outputId": "b9431d48-badc-4971-c446-3b28e76395eb"
      },
      "execution_count": 23,
      "outputs": [
        {
          "output_type": "stream",
          "name": "stdout",
          "text": [
            "I am 25 years old.\n"
          ]
        }
      ]
    },
    {
      "cell_type": "markdown",
      "source": [
        "**e. Boolean to Integer**\n"
      ],
      "metadata": {
        "id": "AN7zlYJXNgC-"
      }
    },
    {
      "cell_type": "code",
      "source": [
        "print(int(True))\n",
        "print(int(False))\n"
      ],
      "metadata": {
        "colab": {
          "base_uri": "https://localhost:8080/"
        },
        "id": "Rx6tOLFjNkGS",
        "outputId": "856bfecf-9761-4650-98f9-c0df38d14237"
      },
      "execution_count": 24,
      "outputs": [
        {
          "output_type": "stream",
          "name": "stdout",
          "text": [
            "1\n",
            "0\n"
          ]
        }
      ]
    },
    {
      "cell_type": "code",
      "source": [],
      "metadata": {
        "id": "LZcU1yAUNyXA"
      },
      "execution_count": null,
      "outputs": []
    },
    {
      "cell_type": "markdown",
      "source": [
        "** f.String to List**\n",
        "\n",
        "\n"
      ],
      "metadata": {
        "id": "gsmfzvi1NvYD"
      }
    },
    {
      "cell_type": "code",
      "source": [
        "text = \"hello\"\n",
        "letters = list(text)\n",
        "print(letters)\n"
      ],
      "metadata": {
        "colab": {
          "base_uri": "https://localhost:8080/"
        },
        "id": "xWu9zgZVN1l4",
        "outputId": "58695b10-4eef-4896-f395-d734a19e617c"
      },
      "execution_count": 25,
      "outputs": [
        {
          "output_type": "stream",
          "name": "stdout",
          "text": [
            "['h', 'e', 'l', 'l', 'o']\n"
          ]
        }
      ]
    },
    {
      "cell_type": "markdown",
      "source": [
        "**6- How do conditional statements work in Python? Illustrate with examples**\n",
        "\n",
        "Conditional statements let your program choose between different actions depending on whether a condition is True or False.\n",
        "\n",
        " Basic Structure\n",
        "\n",
        " if condition:\n",
        "    # code to run if condition is True\n",
        "elif another_condition:\n",
        "    # code to run if the first condition is False and this is True\n",
        "else:\n",
        "    # code to run if none of the above conditions are True\n",
        "\n",
        "a. Simple if Statement\n",
        "\n",
        "\n",
        "\n"
      ],
      "metadata": {
        "id": "YPc83AqwN_m8"
      }
    },
    {
      "cell_type": "code",
      "source": [
        "x = 10\n",
        "\n",
        "if x > 5:\n",
        "    print(\"x is greater than 5\")\n"
      ],
      "metadata": {
        "colab": {
          "base_uri": "https://localhost:8080/"
        },
        "id": "ZZZHYr02Og-j",
        "outputId": "c3941ae0-c1cf-417a-b0c6-8e1bab7050b1"
      },
      "execution_count": 26,
      "outputs": [
        {
          "output_type": "stream",
          "name": "stdout",
          "text": [
            "x is greater than 5\n"
          ]
        }
      ]
    },
    {
      "cell_type": "markdown",
      "source": [
        "b. if...else Statement\n",
        "\n"
      ],
      "metadata": {
        "id": "MUw4dQDvOkYE"
      }
    },
    {
      "cell_type": "code",
      "source": [
        "x = 3\n",
        "\n",
        "if x > 5:\n",
        "    print(\"x is greater than 5\")\n",
        "else:\n",
        "    print(\"x is 5 or less\")\n"
      ],
      "metadata": {
        "colab": {
          "base_uri": "https://localhost:8080/"
        },
        "id": "G0FMdMCWOnyM",
        "outputId": "eaeb87fd-2bda-45e9-dcf6-43f5077de552"
      },
      "execution_count": 27,
      "outputs": [
        {
          "output_type": "stream",
          "name": "stdout",
          "text": [
            "x is 5 or less\n"
          ]
        }
      ]
    },
    {
      "cell_type": "markdown",
      "source": [
        "c. if...elif...else Statement\n"
      ],
      "metadata": {
        "id": "BEUXq23VOqzS"
      }
    },
    {
      "cell_type": "code",
      "source": [
        "x = 5\n",
        "\n",
        "if x > 5:\n",
        "    print(\"x is greater than 5\")\n",
        "elif x == 5:\n",
        "    print(\"x is equal to 5\")\n",
        "else:\n",
        "    print(\"x is less than 5\")\n"
      ],
      "metadata": {
        "colab": {
          "base_uri": "https://localhost:8080/"
        },
        "id": "h28Rsj4tOwQP",
        "outputId": "4f8c37ab-1b05-4ae9-b329-38d702114ca6"
      },
      "execution_count": 28,
      "outputs": [
        {
          "output_type": "stream",
          "name": "stdout",
          "text": [
            "x is equal to 5\n"
          ]
        }
      ]
    },
    {
      "cell_type": "markdown",
      "source": [
        "d. Nested if Statements"
      ],
      "metadata": {
        "id": "l_qsqWo9Oz3z"
      }
    },
    {
      "cell_type": "code",
      "source": [
        "x = 10\n",
        "y = 20\n",
        "\n",
        "if x < y:\n",
        "    if x > 5:\n",
        "        print(\"x is between 6 and y\")\n"
      ],
      "metadata": {
        "colab": {
          "base_uri": "https://localhost:8080/"
        },
        "id": "uluBQF54O3ax",
        "outputId": "d619582c-210c-4363-e3b9-b2e37e7e9db7"
      },
      "execution_count": 29,
      "outputs": [
        {
          "output_type": "stream",
          "name": "stdout",
          "text": [
            "x is between 6 and y\n"
          ]
        }
      ]
    },
    {
      "cell_type": "markdown",
      "source": [
        "e. Using Logical Operators\n"
      ],
      "metadata": {
        "id": "c3QHu4Q_O6NL"
      }
    },
    {
      "cell_type": "code",
      "source": [
        "age = 18\n",
        "\n",
        "if age >= 18 and age <= 25:\n",
        "    print(\"You are a young adult\")\n"
      ],
      "metadata": {
        "colab": {
          "base_uri": "https://localhost:8080/"
        },
        "id": "Ptpi8bFvPATJ",
        "outputId": "a365e70e-7dcb-4782-e635-dde16c0cbc39"
      },
      "execution_count": 30,
      "outputs": [
        {
          "output_type": "stream",
          "name": "stdout",
          "text": [
            "You are a young adult\n"
          ]
        }
      ]
    },
    {
      "cell_type": "markdown",
      "source": [
        "**7- Describe the different types of loops in Python and their use cases with examples.**\n",
        "\n",
        "Loops in Python are used to repeat a block of code multiple times. There are two main types of loops in Python: for loops and while loops. Let’s break them down clearly with use cases and examples.\n",
        "\n",
        "**a. for Loop**\n",
        "\n",
        "What It Does:Loops over a sequence like a list, string, tuple, or range.\n",
        "\n",
        "Use Cases:\n",
        "\n",
        "Repeating a task a specific number of times\n",
        "\n",
        "Iterating over items in a list, string, or dictionary\n",
        "\n",
        "Example: Loop through a list"
      ],
      "metadata": {
        "id": "HyogprqZPEcq"
      }
    },
    {
      "cell_type": "code",
      "source": [
        "fruits = [\"apple\", \"banana\", \"cherry\"]\n",
        "for fruit in fruits:\n",
        "    print(fruit)\n"
      ],
      "metadata": {
        "colab": {
          "base_uri": "https://localhost:8080/"
        },
        "id": "hybbqVCaPk8Q",
        "outputId": "5bedccc8-487a-475c-81db-cefba7fb0882"
      },
      "execution_count": 31,
      "outputs": [
        {
          "output_type": "stream",
          "name": "stdout",
          "text": [
            "apple\n",
            "banana\n",
            "cherry\n"
          ]
        }
      ]
    },
    {
      "cell_type": "markdown",
      "source": [
        "Example: Using range()\n",
        "\n"
      ],
      "metadata": {
        "id": "FChay1DvPuHJ"
      }
    },
    {
      "cell_type": "code",
      "source": [
        "for i in range(5):\n",
        "    print(i)\n"
      ],
      "metadata": {
        "colab": {
          "base_uri": "https://localhost:8080/"
        },
        "id": "fV1PPzKTPzLe",
        "outputId": "c70a9b9e-23d1-4b74-a185-97b766b4b0dd"
      },
      "execution_count": 32,
      "outputs": [
        {
          "output_type": "stream",
          "name": "stdout",
          "text": [
            "0\n",
            "1\n",
            "2\n",
            "3\n",
            "4\n"
          ]
        }
      ]
    },
    {
      "cell_type": "markdown",
      "source": [
        "**b. while Loop**\n",
        "\n",
        " What It Does:\n",
        "Repeats a block of code as long as a condition is true.\n",
        "\n",
        "Use Cases:\n",
        "\n",
        "Keep running until user input meets a condition\n",
        "\n",
        "Waiting for a task to finish\n",
        "\n",
        "Infinite loops (with a break condition)\n",
        "\n",
        "Example: Count until 5\n"
      ],
      "metadata": {
        "id": "xZNg0tAbP115"
      }
    },
    {
      "cell_type": "code",
      "source": [
        "x = 1\n",
        "while x <= 5:\n",
        "    print(x)\n",
        "    x += 1\n"
      ],
      "metadata": {
        "colab": {
          "base_uri": "https://localhost:8080/"
        },
        "id": "Z0POdPFFQEQX",
        "outputId": "52454d56-0a80-458f-df51-5de88f71d62e"
      },
      "execution_count": 33,
      "outputs": [
        {
          "output_type": "stream",
          "name": "stdout",
          "text": [
            "1\n",
            "2\n",
            "3\n",
            "4\n",
            "5\n"
          ]
        }
      ]
    },
    {
      "cell_type": "markdown",
      "source": [
        "**Nested Loops**\n",
        "\n",
        "You can have a loop inside another loop.\n",
        "\n",
        "\n",
        "\n",
        "\n",
        "\n"
      ],
      "metadata": {
        "id": "yeXg72jzQRDi"
      }
    },
    {
      "cell_type": "code",
      "source": [
        "for i in range(2):\n",
        "    for j in range(3):\n",
        "        print(i, j)\n"
      ],
      "metadata": {
        "colab": {
          "base_uri": "https://localhost:8080/"
        },
        "id": "yqjEHFXPQcyv",
        "outputId": "19280b68-e1d0-426a-9bf6-c1871fc0a4d9"
      },
      "execution_count": 34,
      "outputs": [
        {
          "output_type": "stream",
          "name": "stdout",
          "text": [
            "0 0\n",
            "0 1\n",
            "0 2\n",
            "1 0\n",
            "1 1\n",
            "1 2\n"
          ]
        }
      ]
    }
  ]
}